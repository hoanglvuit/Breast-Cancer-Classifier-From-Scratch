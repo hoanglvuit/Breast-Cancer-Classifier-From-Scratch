{
  "nbformat": 4,
  "nbformat_minor": 0,
  "metadata": {
    "colab": {
      "provenance": []
    },
    "kernelspec": {
      "name": "python3",
      "display_name": "Python 3"
    },
    "language_info": {
      "name": "python"
    }
  },
  "cells": [
    {
      "cell_type": "code",
      "execution_count": null,
      "metadata": {
        "id": "OoWnOD4sNvvc"
      },
      "outputs": [],
      "source": [
        "from sklearn.datasets import load_breast_cancer\n",
        "from sklearn.model_selection import train_test_split\n",
        "from sklearn.linear_model import LogisticRegression\n",
        "from sklearn.metrics import accuracy_score,f1_score\n",
        "from sklearn.preprocessing import MinMaxScaler\n",
        "import numpy as np\n",
        "import pandas as pd\n"
      ]
    },
    {
      "cell_type": "markdown",
      "source": [
        "## Breast_Cancer dataset"
      ],
      "metadata": {
        "id": "HN1qj4esfzll"
      }
    },
    {
      "cell_type": "code",
      "source": [
        "data = load_breast_cancer()\n",
        "X = data.data\n",
        "y = data.target"
      ],
      "metadata": {
        "id": "mxiMCG1cPoYa"
      },
      "execution_count": null,
      "outputs": []
    },
    {
      "cell_type": "markdown",
      "source": [
        "### Processing"
      ],
      "metadata": {
        "id": "XPAZROJWf7p6"
      }
    },
    {
      "cell_type": "code",
      "source": [
        "# Scale data\n",
        "scaler = MinMaxScaler()\n",
        "X = scaler.fit_transform(X)\n",
        "# Split the data into training and testing sets\n",
        "X_train, X_test, y_train, y_test = train_test_split(X, y, test_size=0.2, random_state=28)"
      ],
      "metadata": {
        "id": "un8XRO3hOX7f"
      },
      "execution_count": null,
      "outputs": []
    },
    {
      "cell_type": "markdown",
      "source": [
        "### Logistic Regression Sklearn"
      ],
      "metadata": {
        "id": "mtcZq3nngFzj"
      }
    },
    {
      "cell_type": "code",
      "source": [
        "model = LogisticRegression()\n",
        "model.fit(X_train,y_train)\n",
        "y_pred = model.predict(X_test)\n",
        "F1 = f1_score(y_pred,y_test)\n",
        "acc = accuracy_score(y_pred,y_test)\n",
        "print(f\"F1 Score on testset: {F1}\")\n",
        "print(f'Accuracy Score on testset: {acc}')"
      ],
      "metadata": {
        "colab": {
          "base_uri": "https://localhost:8080/"
        },
        "id": "MiJTSHFCP676",
        "outputId": "1164e568-3f46-48d6-e7e1-1feb681cd21e"
      },
      "execution_count": null,
      "outputs": [
        {
          "output_type": "stream",
          "name": "stdout",
          "text": [
            "F1 Score on testset: 0.9864864864864865\n",
            "Accuracy Score on testset: 0.9824561403508771\n"
          ]
        }
      ]
    },
    {
      "cell_type": "markdown",
      "source": [
        "### Logistic Regression by Numpy"
      ],
      "metadata": {
        "id": "dtq2o7CoTR3a"
      }
    },
    {
      "cell_type": "code",
      "source": [
        "X_train = X_train.T\n",
        "X_test = X_test.T"
      ],
      "metadata": {
        "id": "fFvl6l9Dv-cN"
      },
      "execution_count": null,
      "outputs": []
    },
    {
      "cell_type": "markdown",
      "source": [
        "$$\\sigma(z) = \\frac{1}{1 + e^{-z}}$$\n"
      ],
      "metadata": {
        "id": "DYaI0BDxyo0V"
      }
    },
    {
      "cell_type": "code",
      "source": [
        "def sigmoid(Z) :\n",
        "  # sigmoid function\n",
        "  return 1 / ( 1 + np.exp(-Z))"
      ],
      "metadata": {
        "id": "efZNUKo_QVAd"
      },
      "execution_count": null,
      "outputs": []
    },
    {
      "cell_type": "markdown",
      "source": [],
      "metadata": {
        "id": "xPArd-DD5MUY"
      }
    },
    {
      "cell_type": "code",
      "source": [
        "def propagation(X,y,W,b) :\n",
        "\n",
        "  m = X.shape[1]\n",
        "\n",
        "  # forward propagation\n",
        "  Z = np.dot(W.T,X) + b\n",
        "  A = sigmoid(Z)\n",
        "\n",
        "  # cost function\n",
        "  cost  = -1 / m * np.sum(y * np.log(A) + (1 - y) * np.log(1 - A))\n",
        "\n",
        "  # backward propagation\n",
        "  dZ = A - y\n",
        "  dW = 1/m * np.dot(X,dZ.T)\n",
        "  db = 1/m * np.sum(dZ)\n",
        "\n",
        "  return A,cost,dW,db"
      ],
      "metadata": {
        "id": "t3lYZrMJWdR9"
      },
      "execution_count": null,
      "outputs": []
    },
    {
      "cell_type": "code",
      "source": [
        "def fit(X,y,W,b,learning_rate,iterations) :\n",
        "\n",
        "  m = X.shape[1]\n",
        "  W_best = W\n",
        "  b_best = b\n",
        "  cost_best = np.inf\n",
        "  # loop\n",
        "  for iter in range(iterations) :\n",
        "    # get dW,db\n",
        "    A,cost,dW,db = propagation(X,y,W,b)\n",
        "\n",
        "    # update parameters\n",
        "    W -= learning_rate * dW\n",
        "    b -= learning_rate * db\n",
        "\n",
        "    # get parameters bringing the best result\n",
        "    if cost < cost_best :\n",
        "      cost_best = cost\n",
        "      W_best = W\n",
        "      b_best = b\n",
        "\n",
        "    # track the train process\n",
        "    if iter % 1000 == 0 :\n",
        "      print(f'Cost after {iter} iterations: {cost}')\n",
        "\n",
        "  print(f'Minimum Cost: {cost_best}')\n",
        "  return W_best,b_best\n"
      ],
      "metadata": {
        "id": "ZRLu-BU3XQWQ"
      },
      "execution_count": null,
      "outputs": []
    },
    {
      "cell_type": "code",
      "source": [
        "def predict(X_test,W,b) :\n",
        "  # compte A\n",
        "  Z = np.dot(W.T,X_test) + b\n",
        "  A = sigmoid(Z)\n",
        "\n",
        "  # convert from probability to 0 or 1\n",
        "  y_pred = np.where(A > 0.5,1,0)\n",
        "\n",
        "  # flatten the array\n",
        "  y_pred = y_pred.flatten()\n",
        "\n",
        "  return y_pred"
      ],
      "metadata": {
        "id": "MpGGxD3seRcH"
      },
      "execution_count": null,
      "outputs": []
    },
    {
      "cell_type": "code",
      "source": [
        "# initialize parameters\n",
        "W = np.ones((X_train.shape[0],1)) * 0.0001\n",
        "b = 0.00001\n",
        "learning_rate = 0.1\n",
        "iterations = 6000\n",
        "# fit data\n",
        "W_,b_ = fit(X_train,y_train.reshape(1,-1),W,b,learning_rate,iterations)\n",
        "# predict\n",
        "y_pred = predict(X_test,W_,b_)"
      ],
      "metadata": {
        "colab": {
          "base_uri": "https://localhost:8080/"
        },
        "id": "aBuI2ByAaoov",
        "outputId": "2ec144da-5799-4eca-e075-101c336898af"
      },
      "execution_count": null,
      "outputs": [
        {
          "output_type": "stream",
          "name": "stdout",
          "text": [
            "Cost after 0 iterations: 0.6931592839695893\n",
            "Cost after 1000 iterations: 0.21647740839012258\n",
            "Cost after 2000 iterations: 0.16881799185453045\n",
            "Cost after 3000 iterations: 0.14706555351710085\n",
            "Cost after 4000 iterations: 0.13367374298171164\n",
            "Cost after 5000 iterations: 0.12428077487337578\n",
            "Minimum Cost: 0.11720142643255961\n"
          ]
        }
      ]
    },
    {
      "cell_type": "code",
      "source": [
        "f1 = f1_score(y_pred,y_test)\n",
        "acc = accuracy_score(y_pred,y_test)\n",
        "print(f'F1 Score: {f1}')\n",
        "print(f'Accuracy Score: {acc}')"
      ],
      "metadata": {
        "colab": {
          "base_uri": "https://localhost:8080/"
        },
        "id": "vrClysF6bC1s",
        "outputId": "e8393aa8-c405-40af-ad4c-08c1ea8da1f7"
      },
      "execution_count": null,
      "outputs": [
        {
          "output_type": "stream",
          "name": "stdout",
          "text": [
            "F1 Score: 0.9793103448275863\n",
            "Accuracy Score: 0.9736842105263158\n"
          ]
        }
      ]
    },
    {
      "cell_type": "markdown",
      "source": [
        "Very quite good! You can build choose threshold or track both the training and testing processes to choose suitable hyperparameters......"
      ],
      "metadata": {
        "id": "8ils9DkJiujz"
      }
    },
    {
      "cell_type": "markdown",
      "source": [
        "### Experiment with Neural Network"
      ],
      "metadata": {
        "id": "KuxkAGS4jNpE"
      }
    },
    {
      "cell_type": "markdown",
      "source": [
        " We will experiment it for this problem (usually Neural Network will be the best choice for the large dataset)"
      ],
      "metadata": {
        "id": "qKS-SbBajYZE"
      }
    },
    {
      "cell_type": "code",
      "source": [
        "def relu(Z) :\n",
        "  return np.maximum(0,Z)"
      ],
      "metadata": {
        "id": "VtqSIij5jz5n"
      },
      "execution_count": null,
      "outputs": []
    },
    {
      "cell_type": "code",
      "source": [
        "def propagation_NN(X,y,W1,b1,W2,b2) :\n",
        "\n",
        "  m  = X.shape[1]\n",
        "  n0 = X.shape[0]\n",
        "  n1 = W1.shape[0]\n",
        "  n2 = W2.shape[0]\n",
        "\n",
        "  # forward propagation\n",
        "  Z1 = np.dot(W1,X) + b1\n",
        "  A1 = relu(Z1)\n",
        "  Z2 = np.dot(W2,A1) + b2\n",
        "  A2 = sigmoid(Z2)\n",
        "\n",
        "  # cost function\n",
        "  cost = -1/m * np.sum(y * np.log(A2) + (1 - y) * np.log(1 - A2))\n",
        "\n",
        "  # backward propagation\n",
        "  dZ2 = A2 - y\n",
        "  dW2 = 1/m * np.dot(dZ2,A1.T)\n",
        "  db2 = 1/m * np.sum(dZ2,axis=1,keepdims=True)\n",
        "  dZ1 = np.dot(W2.T,dZ2) * np.where(Z1 > 0,1,0)\n",
        "  dW1 = 1/m * np.dot(dZ1,X.T)\n",
        "  db1 = 1/m * np.sum(dZ1,axis=1,keepdims=True)\n",
        "\n",
        "  return A2,cost,dW1,db1,dW2,db2"
      ],
      "metadata": {
        "id": "_FHprEDBdIW8"
      },
      "execution_count": null,
      "outputs": []
    },
    {
      "cell_type": "code",
      "source": [
        "def fit_NN(X,y,W1,b1,W2,b2,learning_rate,iterations) :\n",
        "  m = X.shape[1]\n",
        "  best_parameters = {}\n",
        "  best_cost = np.inf\n",
        "\n",
        "  # loop\n",
        "  for iter in range(iterations) :\n",
        "    # get grads\n",
        "    A2,cost,dW1,db1,dW2,db2 = propagation_NN(X,y,W1,b1,W2,b2)\n",
        "    # update parameters by gradient descent\n",
        "    W2 -= learning_rate * dW2\n",
        "    b2 -= learning_rate * db2\n",
        "    W1 -= learning_rate * dW1\n",
        "    b1 -= learning_rate * db1\n",
        "    # get best parameters\n",
        "    if cost < best_cost :\n",
        "      best_cost = cost\n",
        "      best_parameters = {'W1':W1,'b1':b1,'W2':W2,'b2':b2}\n",
        "\n",
        "    # track the train process\n",
        "    if iter % 1000 == 0 :\n",
        "      print(f'Cost after {iter} iterations: {cost}')\n",
        "  print(f'Minimum Cost: {best_cost}')\n",
        "  return best_parameters"
      ],
      "metadata": {
        "id": "6ZrNmqRvqaPF"
      },
      "execution_count": null,
      "outputs": []
    },
    {
      "cell_type": "code",
      "source": [
        "def predict_NN(X_test,parameters) :\n",
        "  # get parameters\n",
        "  W1 = parameters['W1']\n",
        "  b1 = parameters['b1']\n",
        "  W2 = parameters['W2']\n",
        "  b2 = parameters['b2']\n",
        "\n",
        "  # forward\n",
        "  Z1 = np.dot(W1,X_test) + b1\n",
        "  A1 = relu(Z1)\n",
        "  Z2 = np.dot(W2,A1) + b2\n",
        "  A2 = sigmoid(Z2)\n",
        "\n",
        "  # convert from probability to 0 or 1\n",
        "  y_pred = np.where(A2 > 0.5,1,0)\n",
        "  y_pred = y_pred.flatten()\n",
        "\n",
        "  return y_pred"
      ],
      "metadata": {
        "id": "vPPQgOoirQA9"
      },
      "execution_count": null,
      "outputs": []
    },
    {
      "cell_type": "code",
      "source": [
        "# initialize hyperparameters\n",
        "n0 = X_train.shape[0]\n",
        "n1 = 3 # the number of the neurons of hidden layer 1\n",
        "n2 = 1 # the number of the neurons of output layer\n",
        "learning_rate_NN = 0.1\n",
        "iterations_NN = 2000\n",
        "\n",
        "# initialize parameters\n",
        "W1 = np.random.randn(n1,n0) * 0.0001 # to avoid to initialize 0 array\n",
        "b1 = np.zeros((n1,1))\n",
        "W2 = np.random.randn(n2,n1) * 0.0001\n",
        "b2 = np.zeros((n2,1))\n",
        "\n",
        "# fit data\n",
        "parameters = fit_NN(X_train,y_train.reshape(1,-1),W1,b1,W2,b2,learning_rate_NN,iterations_NN)\n",
        "\n",
        "# predict\n",
        "y_pred_nn = predict_NN(X_test,parameters)"
      ],
      "metadata": {
        "colab": {
          "base_uri": "https://localhost:8080/"
        },
        "id": "792YF0vYrraS",
        "outputId": "cf575b85-1054-4b8f-b752-894b25ee3ba6"
      },
      "execution_count": null,
      "outputs": [
        {
          "output_type": "stream",
          "name": "stdout",
          "text": [
            "Cost after 0 iterations: 0.6931471806412166\n",
            "Cost after 1000 iterations: 0.4257947183278817\n",
            "Minimum Cost: 0.07951259045178963\n"
          ]
        }
      ]
    },
    {
      "cell_type": "code",
      "source": [
        "f1_nn = f1_score(y_pred_nn,y_test)\n",
        "acc_nn = accuracy_score(y_pred_nn,y_test)\n",
        "print(f'F1 Score: {f1_nn}')\n",
        "print(f'Accuracy Score: {acc_nn}')"
      ],
      "metadata": {
        "colab": {
          "base_uri": "https://localhost:8080/"
        },
        "id": "o6yaCaNts1M-",
        "outputId": "0a84447b-687f-4df1-9097-00095d90e8b5"
      },
      "execution_count": null,
      "outputs": [
        {
          "output_type": "stream",
          "name": "stdout",
          "text": [
            "F1 Score: 0.9793103448275863\n",
            "Accuracy Score: 0.9736842105263158\n"
          ]
        }
      ]
    },
    {
      "cell_type": "markdown",
      "source": [
        "Well, vey similar with Logistic"
      ],
      "metadata": {
        "id": "PV7jx5SDxEDl"
      }
    },
    {
      "cell_type": "code",
      "source": [],
      "metadata": {
        "id": "ZDsAQ3-MxGhM"
      },
      "execution_count": null,
      "outputs": []
    }
  ]
}